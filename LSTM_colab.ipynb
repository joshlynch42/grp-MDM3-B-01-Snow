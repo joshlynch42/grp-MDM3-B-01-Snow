{
  "nbformat": 4,
  "nbformat_minor": 0,
  "metadata": {
    "colab": {
      "name": "LSTM.ipynb",
      "provenance": [],
      "collapsed_sections": []
    },
    "kernelspec": {
      "name": "python3",
      "display_name": "Python 3"
    }
  },
  "cells": [
    {
      "cell_type": "code",
      "metadata": {
        "id": "rPKxaa-Dr47w"
      },
      "source": [
        "### ACTIONS YOU NEED TO DO ###\r\n",
        "# Comments related to the code #\r\n",
        "\r\n",
        "\r\n",
        "### Make sure to run all cells at the start ###\r\n",
        "\r\n",
        "import keras\r\n",
        "from keras.datasets import mnist\r\n",
        "from keras.models import Sequential\r\n",
        "from keras.layers import LSTM, Dense, Dropout\r\n",
        "from keras.optimizers import Adam\r\n",
        "import pandas as pd\r\n",
        "from sklearn.model_selection import train_test_split\r\n",
        "import numpy as np\r\n",
        "import datetime\r\n",
        "from datetime import timedelta\r\n",
        "from sklearn.metrics import mean_squared_error"
      ],
      "execution_count": 1,
      "outputs": []
    },
    {
      "cell_type": "code",
      "metadata": {
        "colab": {
          "resources": {
            "http://localhost:8080/nbextensions/google.colab/files.js": {
              "data": "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",
              "ok": true,
              "headers": [
                [
                  "content-type",
                  "application/javascript"
                ]
              ],
              "status": 200,
              "status_text": ""
            }
          },
          "base_uri": "https://localhost:8080/",
          "height": 73
        },
        "id": "MaRIskU8r_ty",
        "outputId": "f057aaef-d6b1-4924-d62d-eeabc29202a1"
      },
      "source": [
        "# importing relevant station files #\r\n",
        "from google.colab import files\r\n",
        "data_to_load = files.upload()\r\n",
        "\r\n",
        "### Press choose file, then select the file you want ###"
      ],
      "execution_count": 2,
      "outputs": [
        {
          "output_type": "display_data",
          "data": {
            "text/html": [
              "\n",
              "     <input type=\"file\" id=\"files-7192688e-bc0e-4eff-a77d-072e2c27b578\" name=\"files[]\" multiple disabled\n",
              "        style=\"border:none\" />\n",
              "     <output id=\"result-7192688e-bc0e-4eff-a77d-072e2c27b578\">\n",
              "      Upload widget is only available when the cell has been executed in the\n",
              "      current browser session. Please rerun this cell to enable.\n",
              "      </output>\n",
              "      <script src=\"/nbextensions/google.colab/files.js\"></script> "
            ],
            "text/plain": [
              "<IPython.core.display.HTML object>"
            ]
          },
          "metadata": {
            "tags": []
          }
        },
        {
          "output_type": "stream",
          "text": [
            "Saving Alexander_Lake_1267_clean.csv to Alexander_Lake_1267_clean.csv\n"
          ],
          "name": "stdout"
        }
      ]
    },
    {
      "cell_type": "code",
      "metadata": {
        "id": "aYertO4isRb4"
      },
      "source": [
        "import io\r\n",
        "\r\n",
        "### Change below to the filename you need. Not the location, just the name ###\r\n",
        "df = pd.read_csv(io.BytesIO(data_to_load['Alexander_Lake_1267_clean.csv']))\r\n",
        "### Change the station name and number below ###\r\n",
        "station_name = 'Alexander Lake (1267)'\r\n",
        "column_name = station_name + ' Snow Depth (cm) Start of Day Values'"
      ],
      "execution_count": 3,
      "outputs": []
    },
    {
      "cell_type": "code",
      "metadata": {
        "id": "PjNmfkqjsYpe",
        "colab": {
          "base_uri": "https://localhost:8080/",
          "height": 330
        },
        "outputId": "670230f7-97a1-483c-c112-a05dcb43051d"
      },
      "source": [
        "df = df.dropna()\r\n",
        "\r\n",
        "df.head()"
      ],
      "execution_count": 4,
      "outputs": [
        {
          "output_type": "execute_result",
          "data": {
            "text/html": [
              "<div>\n",
              "<style scoped>\n",
              "    .dataframe tbody tr th:only-of-type {\n",
              "        vertical-align: middle;\n",
              "    }\n",
              "\n",
              "    .dataframe tbody tr th {\n",
              "        vertical-align: top;\n",
              "    }\n",
              "\n",
              "    .dataframe thead th {\n",
              "        text-align: right;\n",
              "    }\n",
              "</style>\n",
              "<table border=\"1\" class=\"dataframe\">\n",
              "  <thead>\n",
              "    <tr style=\"text-align: right;\">\n",
              "      <th></th>\n",
              "      <th>Date</th>\n",
              "      <th>Alexander Lake (1267) Air Temperature Minimum (degC)</th>\n",
              "      <th>Alexander Lake (1267) Air Temperature Average (degC)</th>\n",
              "      <th>Alexander Lake (1267) Air Temperature Maximum (degC)</th>\n",
              "      <th>Alexander Lake (1267) Precipitation Accumulation (mm) Start of Day Values</th>\n",
              "      <th>Alexander Lake (1267) Precipitation Increment - Snow-adj (mm)</th>\n",
              "      <th>Alexander Lake (1267) Snow Depth (cm) Start of Day Values</th>\n",
              "      <th>Alexander Lake (1267) Snow Density (pct) Start of Day Values</th>\n",
              "    </tr>\n",
              "  </thead>\n",
              "  <tbody>\n",
              "    <tr>\n",
              "      <th>0</th>\n",
              "      <td>2014-10-31</td>\n",
              "      <td>-6.132089</td>\n",
              "      <td>-3.094423</td>\n",
              "      <td>-0.462351</td>\n",
              "      <td>87.133585</td>\n",
              "      <td>1.747945</td>\n",
              "      <td>11.525486</td>\n",
              "      <td>13.294140</td>\n",
              "    </tr>\n",
              "    <tr>\n",
              "      <th>1</th>\n",
              "      <td>2014-11-01</td>\n",
              "      <td>-6.199359</td>\n",
              "      <td>-3.164653</td>\n",
              "      <td>-0.553671</td>\n",
              "      <td>88.679944</td>\n",
              "      <td>1.769662</td>\n",
              "      <td>12.136748</td>\n",
              "      <td>13.442437</td>\n",
              "    </tr>\n",
              "    <tr>\n",
              "      <th>2</th>\n",
              "      <td>2014-11-02</td>\n",
              "      <td>-6.269141</td>\n",
              "      <td>-3.235974</td>\n",
              "      <td>-0.644023</td>\n",
              "      <td>90.245465</td>\n",
              "      <td>1.790356</td>\n",
              "      <td>12.759021</td>\n",
              "      <td>13.595702</td>\n",
              "    </tr>\n",
              "    <tr>\n",
              "      <th>3</th>\n",
              "      <td>2014-11-03</td>\n",
              "      <td>-6.341910</td>\n",
              "      <td>-3.308689</td>\n",
              "      <td>-0.733584</td>\n",
              "      <td>91.829373</td>\n",
              "      <td>1.809832</td>\n",
              "      <td>13.391078</td>\n",
              "      <td>13.753767</td>\n",
              "    </tr>\n",
              "    <tr>\n",
              "      <th>4</th>\n",
              "      <td>2014-11-04</td>\n",
              "      <td>-6.418120</td>\n",
              "      <td>-3.383106</td>\n",
              "      <td>-0.822548</td>\n",
              "      <td>93.430704</td>\n",
              "      <td>1.827982</td>\n",
              "      <td>14.031640</td>\n",
              "      <td>13.916430</td>\n",
              "    </tr>\n",
              "  </tbody>\n",
              "</table>\n",
              "</div>"
            ],
            "text/plain": [
              "         Date  ...  Alexander Lake (1267) Snow Density (pct) Start of Day Values\n",
              "0  2014-10-31  ...                                          13.294140           \n",
              "1  2014-11-01  ...                                          13.442437           \n",
              "2  2014-11-02  ...                                          13.595702           \n",
              "3  2014-11-03  ...                                          13.753767           \n",
              "4  2014-11-04  ...                                          13.916430           \n",
              "\n",
              "[5 rows x 8 columns]"
            ]
          },
          "metadata": {
            "tags": []
          },
          "execution_count": 4
        }
      ]
    },
    {
      "cell_type": "code",
      "metadata": {
        "id": "t4z3-Pi_s2d2",
        "colab": {
          "base_uri": "https://localhost:8080/"
        },
        "outputId": "40d54932-b141-4a0f-c8cc-d51375177030"
      },
      "source": [
        "from sklearn.preprocessing import MinMaxScaler\r\n",
        "\r\n",
        "## 1 month .shift(-30) below\r\n",
        "sc1 = MinMaxScaler(feature_range = (0, 1))\r\n",
        "temp = df[['Date', station_name + ' Air Temperature Minimum (degC)', station_name + ' Air Temperature Average (degC)', station_name + ' Air Temperature Maximum (degC)', station_name + ' Precipitation Accumulation (mm) Start of Day Values']]\r\n",
        "temp[column_name] = (df.loc[:,column_name]).shift(-365)\r\n",
        "temp = temp.dropna()\r\n",
        "Xs1 = temp.drop('Date', axis=1)\r\n",
        "Xs1 = sc1.fit_transform(Xs1)\r\n",
        "## 3 months .shift(-91) below\r\n",
        "sc2 = MinMaxScaler(feature_range = (0, 1))\r\n",
        "Xs2 = df[[station_name + ' Air Temperature Minimum (degC)', station_name + ' Air Temperature Average (degC)', station_name + ' Air Temperature Maximum (degC)', station_name + ' Precipitation Accumulation (mm) Start of Day Values']]\r\n",
        "Xs2[column_name] = (df.loc[:,column_name]).shift(-730)\r\n",
        "Xs2 = Xs2.dropna()\r\n",
        "Xs2 = sc2.fit_transform(Xs2)\r\n",
        "## 6 months .shift(-182) below\r\n",
        "sc3 = MinMaxScaler(feature_range = (0, 1))\r\n",
        "Xs3 = df[[station_name + ' Air Temperature Minimum (degC)', station_name + ' Air Temperature Average (degC)', station_name + ' Air Temperature Maximum (degC)', station_name + ' Precipitation Accumulation (mm) Start of Day Values']]\r\n",
        "Xs3[column_name] = (df.loc[:,column_name]).shift(-1096)\r\n",
        "Xs3 = Xs3.dropna()\r\n",
        "Xs3 = sc3.fit_transform(Xs3)\r\n",
        "## 12 months .shift(-365) below\r\n",
        "sc4 = MinMaxScaler(feature_range = (0, 1))\r\n",
        "Xs4 = df[[station_name + ' Air Temperature Minimum (degC)', station_name + ' Air Temperature Average (degC)', station_name + ' Air Temperature Maximum (degC)', station_name + ' Precipitation Accumulation (mm) Start of Day Values']]\r\n",
        "Xs4[column_name] = (df.loc[:,column_name]).shift(-1461)\r\n",
        "Xs4 = Xs4.dropna()\r\n",
        "Xs4 = sc4.fit_transform(Xs4)\r\n",
        "\r\n",
        "\r\n",
        "scy = MinMaxScaler(feature_range = (0, 1))\r\n",
        "Ys = scy.fit_transform(df[[station_name + ' Snow Depth (cm) Start of Day Values']].iloc[1461-1:-1]) #### CHANGE MEEE ###  change to the longest time (e.g 4 years or 3 months)\r\n",
        "\r\n",
        "\r\n",
        "# Comment out 2-4 variables above and below \r\n",
        "# uncomment below for just temp and prec\r\n",
        "# sc2 = MinMaxScaler(feature_range = (0, 1))\r\n",
        "# Xs2 = sc2.fit_transform(df[[station_name + ' Air Temperature Minimum (degC)', station_name + ' Air Temperature Average (degC)', station_name + ' Air Temperature Maximum (degC)', station_name + ' Precipitation Accumulation (mm) Start of Day Values']])"
      ],
      "execution_count": 60,
      "outputs": [
        {
          "output_type": "stream",
          "text": [
            "/usr/local/lib/python3.7/dist-packages/ipykernel_launcher.py:6: SettingWithCopyWarning: \n",
            "A value is trying to be set on a copy of a slice from a DataFrame.\n",
            "Try using .loc[row_indexer,col_indexer] = value instead\n",
            "\n",
            "See the caveats in the documentation: https://pandas.pydata.org/pandas-docs/stable/user_guide/indexing.html#returning-a-view-versus-a-copy\n",
            "  \n",
            "/usr/local/lib/python3.7/dist-packages/ipykernel_launcher.py:13: SettingWithCopyWarning: \n",
            "A value is trying to be set on a copy of a slice from a DataFrame.\n",
            "Try using .loc[row_indexer,col_indexer] = value instead\n",
            "\n",
            "See the caveats in the documentation: https://pandas.pydata.org/pandas-docs/stable/user_guide/indexing.html#returning-a-view-versus-a-copy\n",
            "  del sys.path[0]\n",
            "/usr/local/lib/python3.7/dist-packages/ipykernel_launcher.py:19: SettingWithCopyWarning: \n",
            "A value is trying to be set on a copy of a slice from a DataFrame.\n",
            "Try using .loc[row_indexer,col_indexer] = value instead\n",
            "\n",
            "See the caveats in the documentation: https://pandas.pydata.org/pandas-docs/stable/user_guide/indexing.html#returning-a-view-versus-a-copy\n",
            "/usr/local/lib/python3.7/dist-packages/ipykernel_launcher.py:25: SettingWithCopyWarning: \n",
            "A value is trying to be set on a copy of a slice from a DataFrame.\n",
            "Try using .loc[row_indexer,col_indexer] = value instead\n",
            "\n",
            "See the caveats in the documentation: https://pandas.pydata.org/pandas-docs/stable/user_guide/indexing.html#returning-a-view-versus-a-copy\n"
          ],
          "name": "stderr"
        }
      ]
    },
    {
      "cell_type": "code",
      "metadata": {
        "id": "-ABuADiv3bGg",
        "colab": {
          "base_uri": "https://localhost:8080/"
        },
        "outputId": "c7f297f4-32a7-4d10-b9c8-784123ed5f4c"
      },
      "source": [
        "# Each time step uses the previous window to predict the next value\r\n",
        "window = 20  # Using 30 previous days to predict next day\r\n",
        "\r\n",
        "X_train1 = []\r\n",
        "X_train2 = []\r\n",
        "X_train3 = []\r\n",
        "X_train4 = []\r\n",
        "y_train = []\r\n",
        "for i in range(window, len(Ys)):\r\n",
        "    X_train1.append(Xs1[i-window:i,:])\r\n",
        "    X_train2.append(Xs2[i-window:i,:])\r\n",
        "    X_train3.append(Xs3[i-window:i,:])\r\n",
        "    X_train4.append(Xs4[i-window:i,:])\r\n",
        "    y_train.append(Ys[i])\r\n",
        "\r\n",
        "y_train = np.array(y_train)\r\n",
        "X_train1 = np.array(X_train1)\r\n",
        "X_train2 = np.array(X_train2)\r\n",
        "X_train3 = np.array(X_train3)\r\n",
        "X_train4 = np.array(X_train4)\r\n",
        "\r\n",
        "# train_size = int(round(len(Xs1) * 0.6, 0))  # Training data is 60% of data\r\n",
        "train_size = 1461 ### CHANGE MEEEE ###  change to the longest time (e.g 4 years or 3 months)\r\n",
        "min_date = temp['Date'].iloc[train_size]\r\n",
        "date_time_obj = datetime.datetime.strptime(min_date, '%Y-%m-%d')\r\n",
        "max_date = date_time_obj + timedelta(days=len(y_train)-1)\r\n",
        "print(min_date)\r\n",
        "print(max_date)\r\n",
        "time_axis = pd.date_range(start=min_date, end=max_date)"
      ],
      "execution_count": 61,
      "outputs": [
        {
          "output_type": "stream",
          "text": [
            "2018-10-31\n",
            "2020-10-16 00:00:00\n"
          ],
          "name": "stdout"
        }
      ]
    },
    {
      "cell_type": "code",
      "metadata": {
        "id": "cMYDZLyOsECs",
        "colab": {
          "base_uri": "https://localhost:8080/"
        },
        "outputId": "6671e29d-089d-4fb7-a173-c26f296d69c4"
      },
      "source": [
        "# Shifted \r\n",
        "regressor1 = Sequential()\r\n",
        "regressor1.add(LSTM(units = 50, return_sequences = True, input_shape = (X_train1.shape[1], X_train1.shape[2])))\r\n",
        "regressor1.add(Dropout(0.2))\r\n",
        "regressor1.add(LSTM(units = 50, return_sequences = True))\r\n",
        "regressor1.add(Dropout(0.2))\r\n",
        "regressor1.add(LSTM(units = 50, return_sequences = True))\r\n",
        "regressor1.add(Dropout(0.2))\r\n",
        "regressor1.add(LSTM(units = 50))\r\n",
        "regressor1.add(Dropout(0.2))\r\n",
        "regressor1.add(Dense(units = 1))\r\n",
        "regressor1.compile(optimizer = 'adam', loss = 'mean_squared_error')\r\n",
        "regressor1.fit(X_train1, y_train, epochs = 15, batch_size = 32)"
      ],
      "execution_count": 62,
      "outputs": [
        {
          "output_type": "stream",
          "text": [
            "Epoch 1/15\n",
            "23/23 [==============================] - 7s 40ms/step - loss: 0.1065\n",
            "Epoch 2/15\n",
            "23/23 [==============================] - 1s 40ms/step - loss: 0.0245\n",
            "Epoch 3/15\n",
            "23/23 [==============================] - 1s 39ms/step - loss: 0.0155\n",
            "Epoch 4/15\n",
            "23/23 [==============================] - 1s 40ms/step - loss: 0.0134\n",
            "Epoch 5/15\n",
            "23/23 [==============================] - 1s 40ms/step - loss: 0.0128\n",
            "Epoch 6/15\n",
            "23/23 [==============================] - 1s 40ms/step - loss: 0.0078\n",
            "Epoch 7/15\n",
            "23/23 [==============================] - 1s 40ms/step - loss: 0.0084\n",
            "Epoch 8/15\n",
            "23/23 [==============================] - 1s 42ms/step - loss: 0.0052\n",
            "Epoch 9/15\n",
            "23/23 [==============================] - 1s 43ms/step - loss: 0.0064\n",
            "Epoch 10/15\n",
            "23/23 [==============================] - 1s 42ms/step - loss: 0.0061\n",
            "Epoch 11/15\n",
            "23/23 [==============================] - 1s 43ms/step - loss: 0.0058\n",
            "Epoch 12/15\n",
            "23/23 [==============================] - 1s 43ms/step - loss: 0.0059\n",
            "Epoch 13/15\n",
            "23/23 [==============================] - 1s 44ms/step - loss: 0.0062\n",
            "Epoch 14/15\n",
            "23/23 [==============================] - 1s 41ms/step - loss: 0.0046\n",
            "Epoch 15/15\n",
            "23/23 [==============================] - 1s 41ms/step - loss: 0.0049\n"
          ],
          "name": "stdout"
        },
        {
          "output_type": "execute_result",
          "data": {
            "text/plain": [
              "<tensorflow.python.keras.callbacks.History at 0x7f2bde2e50d0>"
            ]
          },
          "metadata": {
            "tags": []
          },
          "execution_count": 62
        }
      ]
    },
    {
      "cell_type": "code",
      "metadata": {
        "colab": {
          "base_uri": "https://localhost:8080/"
        },
        "id": "qyhNXi88JzhJ",
        "outputId": "c9189be2-ddd0-4eba-9e72-c347b222d489"
      },
      "source": [
        "# Shifted \r\n",
        "regressor2 = Sequential()\r\n",
        "regressor2.add(LSTM(units = 50, return_sequences = True, input_shape = (X_train2.shape[1], X_train2.shape[2])))\r\n",
        "regressor2.add(Dropout(0.2))\r\n",
        "regressor2.add(LSTM(units = 50, return_sequences = True))\r\n",
        "regressor2.add(Dropout(0.2))\r\n",
        "regressor2.add(LSTM(units = 50, return_sequences = True))\r\n",
        "regressor2.add(Dropout(0.2))\r\n",
        "regressor2.add(LSTM(units = 50))\r\n",
        "regressor2.add(Dropout(0.2))\r\n",
        "regressor2.add(Dense(units = 1))\r\n",
        "regressor2.compile(optimizer = 'adam', loss = 'mean_squared_error')\r\n",
        "regressor2.fit(X_train2, y_train, epochs = 15, batch_size = 32)"
      ],
      "execution_count": 63,
      "outputs": [
        {
          "output_type": "stream",
          "text": [
            "Epoch 1/15\n",
            "23/23 [==============================] - 7s 38ms/step - loss: 0.1241\n",
            "Epoch 2/15\n",
            "23/23 [==============================] - 1s 39ms/step - loss: 0.0119\n",
            "Epoch 3/15\n",
            "23/23 [==============================] - 1s 39ms/step - loss: 0.0088\n",
            "Epoch 4/15\n",
            "23/23 [==============================] - 1s 39ms/step - loss: 0.0069\n",
            "Epoch 5/15\n",
            "23/23 [==============================] - 1s 39ms/step - loss: 0.0070\n",
            "Epoch 6/15\n",
            "23/23 [==============================] - 1s 39ms/step - loss: 0.0066\n",
            "Epoch 7/15\n",
            "23/23 [==============================] - 1s 40ms/step - loss: 0.0059\n",
            "Epoch 8/15\n",
            "23/23 [==============================] - 1s 40ms/step - loss: 0.0055\n",
            "Epoch 9/15\n",
            "23/23 [==============================] - 1s 41ms/step - loss: 0.0052\n",
            "Epoch 10/15\n",
            "23/23 [==============================] - 1s 39ms/step - loss: 0.0050\n",
            "Epoch 11/15\n",
            "23/23 [==============================] - 1s 41ms/step - loss: 0.0061\n",
            "Epoch 12/15\n",
            "23/23 [==============================] - 1s 40ms/step - loss: 0.0057\n",
            "Epoch 13/15\n",
            "23/23 [==============================] - 1s 41ms/step - loss: 0.0049\n",
            "Epoch 14/15\n",
            "23/23 [==============================] - 1s 40ms/step - loss: 0.0035\n",
            "Epoch 15/15\n",
            "23/23 [==============================] - 1s 39ms/step - loss: 0.0039\n"
          ],
          "name": "stdout"
        },
        {
          "output_type": "execute_result",
          "data": {
            "text/plain": [
              "<tensorflow.python.keras.callbacks.History at 0x7f2bd3d0fed0>"
            ]
          },
          "metadata": {
            "tags": []
          },
          "execution_count": 63
        }
      ]
    },
    {
      "cell_type": "code",
      "metadata": {
        "colab": {
          "base_uri": "https://localhost:8080/"
        },
        "id": "hf1qYo3tJ0Tq",
        "outputId": "2bf518ce-9061-4914-fd68-183e4b0b7d37"
      },
      "source": [
        "# Shifted \r\n",
        "regressor3 = Sequential()\r\n",
        "regressor3.add(LSTM(units = 50, return_sequences = True, input_shape = (X_train3.shape[1], X_train3.shape[2])))\r\n",
        "regressor3.add(Dropout(0.2))\r\n",
        "regressor3.add(LSTM(units = 50, return_sequences = True))\r\n",
        "regressor3.add(Dropout(0.2))\r\n",
        "regressor3.add(LSTM(units = 50, return_sequences = True))\r\n",
        "regressor3.add(Dropout(0.2))\r\n",
        "regressor3.add(LSTM(units = 50))\r\n",
        "regressor3.add(Dropout(0.2))\r\n",
        "regressor3.add(Dense(units = 1))\r\n",
        "regressor3.compile(optimizer = 'adam', loss = 'mean_squared_error')\r\n",
        "regressor3.fit(X_train3, y_train, epochs = 15, batch_size = 32)"
      ],
      "execution_count": 64,
      "outputs": [
        {
          "output_type": "stream",
          "text": [
            "Epoch 1/15\n",
            "23/23 [==============================] - 7s 38ms/step - loss: 0.1204\n",
            "Epoch 2/15\n",
            "23/23 [==============================] - 1s 39ms/step - loss: 0.0159\n",
            "Epoch 3/15\n",
            "23/23 [==============================] - 1s 40ms/step - loss: 0.0120\n",
            "Epoch 4/15\n",
            "23/23 [==============================] - 1s 40ms/step - loss: 0.0113\n",
            "Epoch 5/15\n",
            "23/23 [==============================] - 1s 40ms/step - loss: 0.0114\n",
            "Epoch 6/15\n",
            "23/23 [==============================] - 1s 41ms/step - loss: 0.0102\n",
            "Epoch 7/15\n",
            "23/23 [==============================] - 1s 40ms/step - loss: 0.0090\n",
            "Epoch 8/15\n",
            "23/23 [==============================] - 1s 41ms/step - loss: 0.0095\n",
            "Epoch 9/15\n",
            "23/23 [==============================] - 1s 40ms/step - loss: 0.0107\n",
            "Epoch 10/15\n",
            "23/23 [==============================] - 1s 42ms/step - loss: 0.0086\n",
            "Epoch 11/15\n",
            "23/23 [==============================] - 1s 40ms/step - loss: 0.0082\n",
            "Epoch 12/15\n",
            "23/23 [==============================] - 1s 41ms/step - loss: 0.0070\n",
            "Epoch 13/15\n",
            "23/23 [==============================] - 1s 41ms/step - loss: 0.0073\n",
            "Epoch 14/15\n",
            "23/23 [==============================] - 1s 40ms/step - loss: 0.0095\n",
            "Epoch 15/15\n",
            "23/23 [==============================] - 1s 40ms/step - loss: 0.0064\n"
          ],
          "name": "stdout"
        },
        {
          "output_type": "execute_result",
          "data": {
            "text/plain": [
              "<tensorflow.python.keras.callbacks.History at 0x7f2bd21efd50>"
            ]
          },
          "metadata": {
            "tags": []
          },
          "execution_count": 64
        }
      ]
    },
    {
      "cell_type": "code",
      "metadata": {
        "colab": {
          "base_uri": "https://localhost:8080/"
        },
        "id": "_h_JuGYwMwr5",
        "outputId": "43f6fc42-0af1-471d-83ec-88a113ee7125"
      },
      "source": [
        "# Shifted \r\n",
        "regressor4 = Sequential()\r\n",
        "regressor4.add(LSTM(units = 50, return_sequences = True, input_shape = (X_train4.shape[1], X_train4.shape[2])))\r\n",
        "regressor4.add(Dropout(0.2))\r\n",
        "regressor4.add(LSTM(units = 50, return_sequences = True))\r\n",
        "regressor4.add(Dropout(0.2))\r\n",
        "regressor4.add(LSTM(units = 50, return_sequences = True))\r\n",
        "regressor4.add(Dropout(0.2))\r\n",
        "regressor4.add(LSTM(units = 50))\r\n",
        "regressor4.add(Dropout(0.2))\r\n",
        "regressor4.add(Dense(units = 1))\r\n",
        "regressor4.compile(optimizer = 'adam', loss = 'mean_squared_error')\r\n",
        "regressor4.fit(X_train4, y_train, epochs = 15, batch_size = 32)"
      ],
      "execution_count": 65,
      "outputs": [
        {
          "output_type": "stream",
          "text": [
            "Epoch 1/15\n",
            "23/23 [==============================] - 7s 39ms/step - loss: 0.0705\n",
            "Epoch 2/15\n",
            "23/23 [==============================] - 1s 39ms/step - loss: 0.0078\n",
            "Epoch 3/15\n",
            "23/23 [==============================] - 1s 40ms/step - loss: 0.0055\n",
            "Epoch 4/15\n",
            "23/23 [==============================] - 1s 40ms/step - loss: 0.0054\n",
            "Epoch 5/15\n",
            "23/23 [==============================] - 1s 40ms/step - loss: 0.0046\n",
            "Epoch 6/15\n",
            "23/23 [==============================] - 1s 39ms/step - loss: 0.0033\n",
            "Epoch 7/15\n",
            "23/23 [==============================] - 1s 40ms/step - loss: 0.0034\n",
            "Epoch 8/15\n",
            "23/23 [==============================] - 1s 40ms/step - loss: 0.0027\n",
            "Epoch 9/15\n",
            "23/23 [==============================] - 1s 40ms/step - loss: 0.0027\n",
            "Epoch 10/15\n",
            "23/23 [==============================] - 1s 40ms/step - loss: 0.0030\n",
            "Epoch 11/15\n",
            "23/23 [==============================] - 1s 40ms/step - loss: 0.0026\n",
            "Epoch 12/15\n",
            "23/23 [==============================] - 1s 40ms/step - loss: 0.0025\n",
            "Epoch 13/15\n",
            "23/23 [==============================] - 1s 41ms/step - loss: 0.0027\n",
            "Epoch 14/15\n",
            "23/23 [==============================] - 1s 40ms/step - loss: 0.0029\n",
            "Epoch 15/15\n",
            "23/23 [==============================] - 1s 41ms/step - loss: 0.0023\n"
          ],
          "name": "stdout"
        },
        {
          "output_type": "execute_result",
          "data": {
            "text/plain": [
              "<tensorflow.python.keras.callbacks.History at 0x7f2bd0829350>"
            ]
          },
          "metadata": {
            "tags": []
          },
          "execution_count": 65
        }
      ]
    },
    {
      "cell_type": "code",
      "metadata": {
        "id": "szqbJHyFtZe9"
      },
      "source": [
        "y_predict1 = regressor1.predict(X_train1)\r\n",
        "y_predict2 = regressor2.predict(X_train2)\r\n",
        "y_predict3 = regressor3.predict(X_train3)\r\n",
        "y_predict4 = regressor4.predict(X_train4)\r\n",
        "\r\n",
        "\r\n",
        "#unscale the output\r\n",
        "y_predict_unscaled1 = scy.inverse_transform(y_predict1)\r\n",
        "y_predict_unscaled2 = scy.inverse_transform(y_predict2)\r\n",
        "y_predict_unscaled3 = scy.inverse_transform(y_predict3)\r\n",
        "y_predict_unscaled4 = scy.inverse_transform(y_predict4)\r\n",
        "\r\n",
        "y_train_unscaled = scy.inverse_transform(y_train)"
      ],
      "execution_count": 66,
      "outputs": []
    },
    {
      "cell_type": "code",
      "metadata": {
        "id": "n9MoMDTWtl4O",
        "colab": {
          "base_uri": "https://localhost:8080/",
          "height": 733
        },
        "outputId": "984bc330-80e9-43d1-a277-0d44429695b8"
      },
      "source": [
        "import matplotlib.pyplot as plt\r\n",
        "\r\n",
        "test_size = int(round(len(Xs1) * 0.4, 0))  # Training data is 60% of data\r\n",
        "# test_size = len(y_predict_unscaled4) # change to unscaled2 if using temp and prec\r\n",
        "print(time_axis)\r\n",
        "time_axis = time_axis[0:test_size]\r\n",
        "print(time_axis)\r\n",
        "y_predict_unscaled1 = y_predict_unscaled1[0:test_size]\r\n",
        "y_predict_unscaled2 = y_predict_unscaled2[0:test_size]\r\n",
        "y_predict_unscaled3 = y_predict_unscaled3[0:test_size]\r\n",
        "y_predict_unscaled4 = y_predict_unscaled4[0:test_size]\r\n",
        "\r\n",
        "y_train_unscaled = y_train_unscaled[0:test_size]\r\n",
        "\r\n",
        "plt.figure(figsize=(10,7))\r\n",
        "plt.plot(time_axis, y_predict_unscaled1, 'g-', label='Predicting Snow 1 year In Advance')\r\n",
        "plt.plot(time_axis, y_predict_unscaled2, 'r-', label='Predicting Snow 2 years In Advance')\r\n",
        "plt.plot(time_axis, y_predict_unscaled3, 'y-', label='Predicting Snow 3 years In Advance')\r\n",
        "plt.plot(time_axis, y_predict_unscaled4, 'm-', label='Predicting Snow 4 years In Advance')\r\n",
        "\r\n",
        "plt.plot(time_axis, y_train_unscaled, 'b-', label='Measured')\r\n",
        "plt.legend(fontsize=12)\r\n",
        "plt.ylabel('Snow Depth (cm)', fontsize=16)\r\n",
        "plt.xlabel('Date', fontsize=16)\r\n",
        "plt.gcf().autofmt_xdate()\r\n",
        "plt.title(station_name + ' Snow Depth using a LSTM Neural Network', fontsize=16)"
      ],
      "execution_count": 67,
      "outputs": [
        {
          "output_type": "stream",
          "text": [
            "DatetimeIndex(['2018-10-31', '2018-11-01', '2018-11-02', '2018-11-03',\n",
            "               '2018-11-04', '2018-11-05', '2018-11-06', '2018-11-07',\n",
            "               '2018-11-08', '2018-11-09',\n",
            "               ...\n",
            "               '2020-10-07', '2020-10-08', '2020-10-09', '2020-10-10',\n",
            "               '2020-10-11', '2020-10-12', '2020-10-13', '2020-10-14',\n",
            "               '2020-10-15', '2020-10-16'],\n",
            "              dtype='datetime64[ns]', length=717, freq='D')\n",
            "DatetimeIndex(['2018-10-31', '2018-11-01', '2018-11-02', '2018-11-03',\n",
            "               '2018-11-04', '2018-11-05', '2018-11-06', '2018-11-07',\n",
            "               '2018-11-08', '2018-11-09',\n",
            "               ...\n",
            "               '2020-10-07', '2020-10-08', '2020-10-09', '2020-10-10',\n",
            "               '2020-10-11', '2020-10-12', '2020-10-13', '2020-10-14',\n",
            "               '2020-10-15', '2020-10-16'],\n",
            "              dtype='datetime64[ns]', length=717, freq='D')\n"
          ],
          "name": "stdout"
        },
        {
          "output_type": "execute_result",
          "data": {
            "text/plain": [
              "Text(0.5, 1.0, 'Alexander Lake (1267) Snow Depth using a LSTM Neural Network')"
            ]
          },
          "metadata": {
            "tags": []
          },
          "execution_count": 67
        },
        {
          "output_type": "display_data",
          "data": {
            "image/png": "[encoded data removed]",
            "text/plain": [
              "<Figure size 720x504 with 1 Axes>"
            ]
          },
          "metadata": {
            "tags": [],
            "needs_background": "light"
          }
        }
      ]
    },
    {
      "cell_type": "code",
      "metadata": {
        "colab": {
          "base_uri": "https://localhost:8080/"
        },
        "id": "N6A3xtKlRXFi",
        "outputId": "dcbf5cde-4a9a-409a-e1ca-a633c5a3f352"
      },
      "source": [
        "rms1 = mean_squared_error(y_train_unscaled, y_predict_unscaled1, squared=False)  # Calculating root mean squared error\r\n",
        "rms2 = mean_squared_error(y_train_unscaled, y_predict_unscaled2, squared=False)  # Calculating root mean squared error\r\n",
        "rms3 = mean_squared_error(y_train_unscaled, y_predict_unscaled3, squared=False)  # Calculating root mean squared error\r\n",
        "rms4 = mean_squared_error(y_train_unscaled, y_predict_unscaled4, squared=False)  # Calculating root mean squared error\r\n",
        "\r\n",
        "print('--------- Predicting Snow 1 year In Advance -------------')\r\n",
        "print('average rms is ' + str(rms1))  # Calculating and printing mean rms\r\n",
        "print('--------- Predicting Snow 2 years In Advance -------------')\r\n",
        "print('average rms is ' + str(rms2))  # Calculating and printing mean rms\r\n",
        "print('--------- Predicting Snow 3 years In Advance -------------')\r\n",
        "print('average rms is ' + str(rms3))  # Calculating and printing mean rms\r\n",
        "print('--------- Predicting Snow 4 years In Advance -------------')\r\n",
        "print('average rms is ' + str(rms4))  # Calculating and printing mean rms"
      ],
      "execution_count": 68,
      "outputs": [
        {
          "output_type": "stream",
          "text": [
            "--------- Predicting Snow 1 year In Advance -------------\n",
            "average rms is 6.029808967729425\n",
            "--------- Predicting Snow 2 years In Advance -------------\n",
            "average rms is 6.522371779081523\n",
            "--------- Predicting Snow 3 years In Advance -------------\n",
            "average rms is 8.881378295053239\n",
            "--------- Predicting Snow 4 years In Advance -------------\n",
            "average rms is 3.321351905173754\n"
          ],
          "name": "stdout"
        }
      ]
    }
  ]
}